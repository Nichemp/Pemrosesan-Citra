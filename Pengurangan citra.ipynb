{
 "cells": [
  {
   "cell_type": "code",
   "execution_count": 6,
   "metadata": {},
   "outputs": [],
   "source": [
    "import cv2\n",
    "import numpy as np\n",
    "\n",
    "# Membaca gambar\n",
    "img1 = cv2.imread('grayscale.jpeg', 0)\n",
    "img2 = cv2.imread('grayscale2.jpeg', 0)\n",
    "\n",
    "#Melakukan operasi pengurangan \n",
    "img_diff = cv2.subtract(img1, img2)\n",
    "\n",
    "# Menampilkan hasil\n",
    "cv2.imshow('Hasil Pengurangan', img_diff)\n",
    "cv2.waitKey(0)\n",
    "cv2.destroyAllWindows()\n"
   ]
  },
  {
   "cell_type": "code",
   "execution_count": 4,
   "metadata": {},
   "outputs": [
    {
     "name": "stdout",
     "output_type": "stream",
     "text": [
      "Dimensi Gambar 1: (1600, 1200, 3)\n",
      "Dimensi Gambar 2: (1600, 1200, 3)\n",
      "Kedua gambar memiliki dimensi yang sama.\n"
     ]
    }
   ],
   "source": [
    "import cv2\n",
    "\n",
    "# Membaca dua gambar\n",
    "img1 = cv2.imread('Reva_g1.jpeg')\n",
    "img2 = cv2.imread('Reva_g2.jpeg')\n",
    "\n",
    "# Memeriksa apakah gambar berhasil dibaca\n",
    "if img1 is None:\n",
    "    print(\"Error: Gambar pertama tidak ditemukan atau gagal dibaca.\")\n",
    "if img2 is None:\n",
    "    print(\"Error: Gambar kedua tidak ditemukan atau gagal dibaca.\")\n",
    "\n",
    "# Jika kedua gambar berhasil dibaca, periksa dimensi\n",
    "if img1 is not None and img2 is not None:\n",
    "    # Dapatkan dimensi gambar\n",
    "    dimensi_img1 = img1.shape  # (tinggi, lebar, jumlah channel)\n",
    "    dimensi_img2 = img2.shape\n",
    "\n",
    "    print(f\"Dimensi Gambar 1: {dimensi_img1}\")\n",
    "    print(f\"Dimensi Gambar 2: {dimensi_img2}\")\n",
    "\n",
    "    # Membandingkan dimensi kedua gambar\n",
    "    if dimensi_img1 == dimensi_img2:\n",
    "        print(\"Kedua gambar memiliki dimensi yang sama.\")\n",
    "    else:\n",
    "        print(\"Kedua gambar memiliki dimensi yang berbeda.\")\n"
   ]
  }
 ],
 "metadata": {
  "kernelspec": {
   "display_name": "Python 3",
   "language": "python",
   "name": "python3"
  },
  "language_info": {
   "codemirror_mode": {
    "name": "ipython",
    "version": 3
   },
   "file_extension": ".py",
   "mimetype": "text/x-python",
   "name": "python",
   "nbconvert_exporter": "python",
   "pygments_lexer": "ipython3",
   "version": "3.11.9"
  }
 },
 "nbformat": 4,
 "nbformat_minor": 2
}
