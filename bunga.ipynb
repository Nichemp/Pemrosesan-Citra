{
 "cells": [
  {
   "cell_type": "code",
   "execution_count": 1,
   "metadata": {},
   "outputs": [
    {
     "name": "stdout",
     "output_type": "stream",
     "text": [
      "1 1 1 1 1 1 1 1 1 1 1 1 1 1 1 1\n",
      "1 1 1 1 1 1 1 1 1 1 1 1 1 1 1 1\n",
      "1 1 1 1 1 1 0 1 1 1 1 1 1 1 1 1\n",
      "1 1 1 1 1 1 1 1 1 1 1 1 1 1 1 1\n",
      "1 1 1 1 1 1 1 1 1 1 1 1 0 1 1 1\n",
      "1 1 1 1 1 1 1 1 1 1 1 1 1 1 1 1\n",
      "1 1 1 1 1 1 1 1 1 1 1 1 1 1 1 1\n",
      "1 1 1 1 1 1 1 1 1 1 1 1 1 1 1 0\n",
      "1 1 1 1 1 1 0 0 0 0 1 1 1 1 1 1\n",
      "1 1 1 1 1 0 0 1 0 1 1 1 1 1 1 1\n",
      "1 1 1 1 1 1 0 0 0 1 1 1 1 1 1 1\n",
      "1 1 1 1 1 1 1 1 1 1 1 1 1 1 1 1\n",
      "1 1 1 1 1 1 1 1 1 1 1 1 1 1 1 1\n",
      "1 1 1 1 1 0 0 0 0 1 1 1 1 1 1 1\n",
      "1 1 1 1 1 0 1 0 0 1 1 1 1 1 1 1\n",
      "1 1 1 1 0 0 0 0 0 0 0 0 1 1 1 1\n"
     ]
    },
    {
     "data": {
      "image/png": "[encoded data removed]",
      "text/plain": [
       "<Figure size 640x480 with 1 Axes>"
      ]
     },
     "metadata": {},
     "output_type": "display_data"
    }
   ],
   "source": [
    "import cv2\n",
    "import numpy as np\n",
    "import matplotlib.pyplot as plt\n",
    "\n",
    "# Fungsi untuk kuantisasi pada grid 32x32\n",
    "def kuantisasi_grid(image_path):\n",
    "    # Baca gambar dalam skala abu-abu\n",
    "    image = cv2.imread(image_path, cv2.IMREAD_GRAYSCALE)\n",
    "\n",
    "    # Ubah ukuran gambar menjadi 32x32 grid\n",
    "    height, width = image.shape\n",
    "    block_size_h = height // 16\n",
    "    block_size_w = width // 16\n",
    "\n",
    "    # Array hasil kuantisasi (0 untuk putih, 1 untuk hitam)\n",
    "    kuantisasi = np.zeros((16, 16), dtype=int)\n",
    "\n",
    "    # Proses setiap blok kecil 32x32\n",
    "    for i in range(16):\n",
    "        for j in range(16):\n",
    "            # Ambil blok kecil\n",
    "            block = image[i*block_size_h:(i+1)*block_size_h, j*block_size_w:(j+1)*block_size_w]\n",
    "\n",
    "            # Hitung jumlah pixel putih dan hitam pada blok\n",
    "            total_pixels = block_size_h * block_size_w\n",
    "            white_pixels = np.sum(block > 127)  # Pixel lebih dari 127 dianggap putih\n",
    "            black_pixels = total_pixels - white_pixels  # Pixel lainnya dianggap hitam\n",
    "\n",
    "            # Tentukan kuantisasi berdasarkan mayoritas\n",
    "            if black_pixels > white_pixels:\n",
    "                kuantisasi[i, j] = 1  # Hitam\n",
    "            else:\n",
    "                kuantisasi[i, j] = 0  # Putih\n",
    "\n",
    "    return kuantisasi\n",
    "\n",
    "# Path gambar yang akan diproses\n",
    "image_path = 'Bunga Putih.jpeg'\n",
    "\n",
    "# Panggil fungsi kuantisasi dan cetak hasilnya\n",
    "hasil_kuantisasi = kuantisasi_grid(image_path)\n",
    "\n",
    "# Cetak hasil kuantisasi 32x32 sebagai angka 1 dan 0\n",
    "for row in hasil_kuantisasi:\n",
    "    print(' '.join(map(str, row)))\n",
    "\n",
    "# Tampilkan hasil kuantisasi sebagai gambar\n",
    "plt.imshow(hasil_kuantisasi, cmap='gray', interpolation='nearest')\n",
    "plt.title('Hasil Kuantisasi 16x16')\n",
    "plt.show()\n"
   ]
  },
  {
   "cell_type": "code",
   "execution_count": 3,
   "metadata": {},
   "outputs": [
    {
     "name": "stdout",
     "output_type": "stream",
     "text": [
      "Gambar telah dikonversi ke grayscale dan disimpan sebagai 'C:/Pemrosesan Citra/Reva_g2.jpeg'\n"
     ]
    }
   ],
   "source": [
    "from PIL import Image\n",
    "\n",
    "def convert_to_grayscale(image_path, output_path):\n",
    "    # Baca gambar dari file\n",
    "    img = Image.open(image_path)\n",
    "    \n",
    "    # Konversi gambar ke grayscale\n",
    "    grayscale_img = img.convert('L')\n",
    "    \n",
    "    # Simpan gambar grayscale\n",
    "    grayscale_img.save(output_path)\n",
    "\n",
    "    print(f\"Gambar telah dikonversi ke grayscale dan disimpan sebagai '{output_path}'\")\n",
    "\n",
    "# Contoh penggunaan\n",
    "input_image_path = 'C:/Pemrosesan Citra/Reva2.jpeg'  # Ganti dengan path gambar Anda\n",
    "output_image_path = 'C:/Pemrosesan Citra/Reva_g2.jpeg'  # Path untuk gambar grayscale yang akan disimpan\n",
    "\n",
    "convert_to_grayscale(input_image_path, output_image_path)\n"
   ]
  }
 ],
 "metadata": {
  "kernelspec": {
   "display_name": "Python 3",
   "language": "python",
   "name": "python3"
  },
  "language_info": {
   "codemirror_mode": {
    "name": "ipython",
    "version": 3
   },
   "file_extension": ".py",
   "mimetype": "text/x-python",
   "name": "python",
   "nbconvert_exporter": "python",
   "pygments_lexer": "ipython3",
   "version": "3.11.9"
  }
 },
 "nbformat": 4,
 "nbformat_minor": 2
}
